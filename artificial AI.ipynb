{
 "cells": [
  {
   "cell_type": "code",
   "execution_count": 1,
   "id": "0d2cf428",
   "metadata": {},
   "outputs": [
    {
     "data": {
      "application/vnd.jupyter.widget-view+json": {
       "model_id": "e8e53b3ccf404f159d843d532654b4f3",
       "version_major": 2,
       "version_minor": 0
      },
      "text/plain": [
       "Dropdown(description='Operation:', options=('Addition', 'Subtraction', 'Multiplication', 'Division', 'Exponent…"
      ]
     },
     "metadata": {},
     "output_type": "display_data"
    },
    {
     "data": {
      "application/vnd.jupyter.widget-view+json": {
       "model_id": "4efc7e34791f415ca27734e14c1cad75",
       "version_major": 2,
       "version_minor": 0
      },
      "text/plain": [
       "FloatText(value=0.0, description='Number 1:')"
      ]
     },
     "metadata": {},
     "output_type": "display_data"
    },
    {
     "data": {
      "application/vnd.jupyter.widget-view+json": {
       "model_id": "e5d0b07fba21422bba47fdbc9dbf37d7",
       "version_major": 2,
       "version_minor": 0
      },
      "text/plain": [
       "FloatText(value=0.0, description='Number 2:')"
      ]
     },
     "metadata": {},
     "output_type": "display_data"
    },
    {
     "data": {
      "application/vnd.jupyter.widget-view+json": {
       "model_id": "d087f6a928ea4b6d83522aba947afb9b",
       "version_major": 2,
       "version_minor": 0
      },
      "text/plain": [
       "Button(description='Submit', style=ButtonStyle())"
      ]
     },
     "metadata": {},
     "output_type": "display_data"
    },
    {
     "data": {
      "application/vnd.jupyter.widget-view+json": {
       "model_id": "dd1ca2290db543a391c1e83cd016c55d",
       "version_major": 2,
       "version_minor": 0
      },
      "text/plain": [
       "Output()"
      ]
     },
     "metadata": {},
     "output_type": "display_data"
    }
   ],
   "source": [
    "import rdflib\n",
    "import ipywidgets as widgets\n",
    "from IPython.display import display\n",
    "\n",
    "# Load the ontology file (.owl)\n",
    "ontology_file = r\"C:\\Users\\dell\\Downloads\\artificialinteligence.owl\"\n",
    "g = rdflib.Graph()\n",
    "g.parse(ontology_file, format=\"xml\")\n",
    "\n",
    "# Function to perform operations based on the selected operation type\n",
    "def perform_operation(operation, num1, num2=None):\n",
    "    if operation == \"Addition\":\n",
    "        return num1 + num2\n",
    "    elif operation == \"Subtraction\":\n",
    "        return num1 - num2\n",
    "    elif operation == \"Multiplication\":\n",
    "        return num1 * num2\n",
    "    elif operation == \"Division\":\n",
    "        if num2 != 0:\n",
    "            return num1 / num2\n",
    "        else:\n",
    "            return \"Error: Division by zero\"\n",
    "    elif operation == \"Exponentiation\":\n",
    "        return num1 ** num2\n",
    "    elif operation == \"Square Root\":\n",
    "        return num1 ** 0.5\n",
    "    elif operation == \"Modulus\":\n",
    "        return num1 % num2\n",
    "    elif operation == \"Percentage\":\n",
    "        return (num1 / 100) * num2\n",
    "    else:\n",
    "        return \"Invalid Operation\"\n",
    "\n",
    "# Define widgets for user input and display\n",
    "operation_selector = widgets.Dropdown(\n",
    "    options=['Addition', 'Subtraction', 'Multiplication', 'Division', 'Exponentiation', 'Square Root', 'Modulus', 'Percentage'],\n",
    "    description='Operation:',\n",
    ")\n",
    "\n",
    "num1_input = widgets.FloatText(\n",
    "    description='Number 1:',\n",
    "    value=0.0,\n",
    ")\n",
    "\n",
    "num2_input = widgets.FloatText(\n",
    "    description='Number 2:',\n",
    "    value=0.0,\n",
    ")\n",
    "\n",
    "result_output = widgets.Output()\n",
    "\n",
    "# Function to display results when \"Submit\" button is clicked\n",
    "def on_submit_button_clicked(b):\n",
    "    with result_output:\n",
    "        operation = operation_selector.value\n",
    "        num1 = num1_input.value\n",
    "        num2 = num2_input.value if operation != \"Square Root\" else None\n",
    "        result = perform_operation(operation, num1, num2)\n",
    "        print(f\"Result of {operation}: {result}\")\n",
    "\n",
    "# Create a submit button to trigger calculation\n",
    "submit_button = widgets.Button(description=\"Submit\")\n",
    "submit_button.on_click(on_submit_button_clicked)\n",
    "\n",
    "# Display the widgets\n",
    "display(operation_selector, num1_input, num2_input, submit_button, result_output)\n"
   ]
  },
  {
   "cell_type": "code",
   "execution_count": null,
   "id": "f2e194b5",
   "metadata": {},
   "outputs": [],
   "source": []
  }
 ],
 "metadata": {
  "kernelspec": {
   "display_name": "Python 3 (ipykernel)",
   "language": "python",
   "name": "python3"
  },
  "language_info": {
   "codemirror_mode": {
    "name": "ipython",
    "version": 3
   },
   "file_extension": ".py",
   "mimetype": "text/x-python",
   "name": "python",
   "nbconvert_exporter": "python",
   "pygments_lexer": "ipython3",
   "version": "3.9.7"
  }
 },
 "nbformat": 4,
 "nbformat_minor": 5
}
